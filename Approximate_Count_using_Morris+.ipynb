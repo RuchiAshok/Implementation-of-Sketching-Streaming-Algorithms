{
  "nbformat": 4,
  "nbformat_minor": 0,
  "metadata": {
    "colab": {
      "provenance": [],
      "collapsed_sections": []
    },
    "kernelspec": {
      "name": "python3",
      "display_name": "Python 3"
    },
    "language_info": {
      "name": "python"
    }
  },
  "cells": [
    {
      "cell_type": "markdown",
      "source": [
        "#Importing Libraries"
      ],
      "metadata": {
        "id": "7LwXITdD-sIH"
      }
    },
    {
      "cell_type": "code",
      "source": [
        "import random as rnd\n",
        "import math"
      ],
      "metadata": {
        "id": "HEDohXY1-sf_"
      },
      "execution_count": null,
      "outputs": []
    },
    {
      "cell_type": "markdown",
      "source": [
        "Generating Stream of Random Numbers. Once the stream is generated, have uploaded the file in drive."
      ],
      "metadata": {
        "id": "IJcfnwHRygGK"
      }
    },
    {
      "cell_type": "code",
      "source": [
        "#@title Randomly Geenrating Data Stream\n",
        "with open(\"numbers\", 'w') as f:\n",
        "  no_of_element = rnd.randint(900000000, 1000000000)\n",
        "  for i in range(no_of_element):\n",
        "    r = rnd.randint(1000, 10000)\n",
        "    f.write(\"{0}\\n\".format(rnd.randint(1, r)))"
      ],
      "metadata": {
        "id": "NIY4bfLKY6Z7"
      },
      "execution_count": null,
      "outputs": []
    },
    {
      "cell_type": "markdown",
      "source": [
        "#Google Drive Authentication"
      ],
      "metadata": {
        "id": "hWyGSJCJ-_9R"
      }
    },
    {
      "cell_type": "code",
      "source": [
        "!pip install -U -q PyDrive\n",
        "from pydrive.auth import GoogleAuth\n",
        "from pydrive.drive import GoogleDrive\n",
        "from google.colab import auth\n",
        "from oauth2client.client import GoogleCredentials\n",
        "\n",
        "auth.authenticate_user()\n",
        "gauth = GoogleAuth()\n",
        "gauth.credentials = GoogleCredentials.get_application_default()\n",
        "drive = GoogleDrive(gauth)"
      ],
      "metadata": {
        "id": "6y7Z397NdGsD"
      },
      "execution_count": null,
      "outputs": []
    },
    {
      "cell_type": "code",
      "source": [
        "from google.colab import drive\n",
        "drive.mount('/content/drive')"
      ],
      "metadata": {
        "colab": {
          "base_uri": "https://localhost:8080/"
        },
        "id": "X5FMlVGRdIy2",
        "outputId": "9d5fbf2e-d3a4-4ac7-88ea-9778fb199f98"
      },
      "execution_count": null,
      "outputs": [
        {
          "output_type": "stream",
          "name": "stdout",
          "text": [
            "Mounted at /content/drive\n"
          ]
        }
      ]
    },
    {
      "cell_type": "markdown",
      "source": [
        "#Exact Count"
      ],
      "metadata": {
        "id": "Zn8osGrc_GTx"
      }
    },
    {
      "cell_type": "code",
      "source": [
        "file = open(\"/content/drive/MyDrive/My Documents/ABD/Assignment2/numbers\",'r')"
      ],
      "metadata": {
        "id": "1VmnWHvc6usf"
      },
      "execution_count": null,
      "outputs": []
    },
    {
      "cell_type": "code",
      "source": [
        "exact_count = 0\n",
        "line = file.readline()  \n",
        "while line:\n",
        "  exact_count = exact_count+1\n",
        "  line = line.rstrip() \n",
        "  line = file.readline()\n",
        "  \n",
        "file.close()"
      ],
      "metadata": {
        "id": "z_OeUQ2-vIWA"
      },
      "execution_count": null,
      "outputs": []
    },
    {
      "cell_type": "markdown",
      "source": [
        "<b> Exact Element count"
      ],
      "metadata": {
        "id": "O__WGpO8LYAY"
      }
    },
    {
      "cell_type": "code",
      "source": [
        "print(\"Exact count of number of integers in the file: \",exact_count)"
      ],
      "metadata": {
        "colab": {
          "base_uri": "https://localhost:8080/"
        },
        "id": "Vh7rV3ljLbso",
        "outputId": "fc44807b-2192-41f5-e2c4-e13f01217abe"
      },
      "execution_count": null,
      "outputs": [
        {
          "output_type": "stream",
          "name": "stdout",
          "text": [
            "Exact count of number of integers in the file:  275732974\n"
          ]
        }
      ]
    },
    {
      "cell_type": "markdown",
      "source": [
        "#Question 2: Approximate Count using Morris+"
      ],
      "metadata": {
        "id": "zQaADzE20v5u"
      }
    },
    {
      "cell_type": "markdown",
      "source": [
        "Defining Parameters\n"
      ],
      "metadata": {
        "id": "rK4RD72tknPr"
      }
    },
    {
      "cell_type": "code",
      "source": [
        "#Failure Probability (delta)\n",
        "delta = 1/3\n",
        "\n",
        "#Error\n",
        "epsilon = 0.3\n",
        "\n",
        "#Number of Independent copies of Morris Algorithm\n",
        "S = int(1/(2*delta*epsilon*epsilon))\n",
        "X = 0.0\n",
        "print(\"Total number of Independent Copies of Morris Algorithm: \", S)"
      ],
      "metadata": {
        "colab": {
          "base_uri": "https://localhost:8080/"
        },
        "id": "d-Yb8dJYlmUO",
        "outputId": "396b0378-afd2-4006-9f5c-77759cd5a4d2"
      },
      "execution_count": null,
      "outputs": [
        {
          "output_type": "stream",
          "name": "stdout",
          "text": [
            "Total number of Independent Copies of Morris Algorithm:  16\n"
          ]
        }
      ]
    },
    {
      "cell_type": "markdown",
      "source": [
        "Morris Plus"
      ],
      "metadata": {
        "id": "p81_SRy__Rj0"
      }
    },
    {
      "cell_type": "code",
      "source": [
        "def morrisPlus(X,S):\n",
        "  estimatedCount_MorrisP = 0;\n",
        "  X_ = X\n",
        "  sum_n_estimated = 0.0\n",
        "\n",
        "  for i in range(S):\n",
        "    tmpX = int(morrisAlgo(X_))\n",
        "    n_estimated = int(math.pow(2,tmpX))-1\n",
        "    sum_n_estimated = sum_n_estimated+n_estimated\n",
        "\n",
        "    print(i,\"th Copy of Morris Algorithm has X count: \",tmpX,\" and approximate count: \",n_estimated)\n",
        "\n",
        "  estimatedCount_MorrisP =int(sum_n_estimated/S)\n",
        "  return estimatedCount_MorrisP;\n",
        "\t"
      ],
      "metadata": {
        "id": "MidmRWNNkZ4-"
      },
      "execution_count": null,
      "outputs": []
    },
    {
      "cell_type": "markdown",
      "source": [
        "Morris Algorithm"
      ],
      "metadata": {
        "id": "zlmdQL-P_VNc"
      }
    },
    {
      "cell_type": "code",
      "source": [
        "def morrisAlgo(X):\n",
        "  file = open(\"/content/drive/MyDrive/My Documents/ABD/Assignment2/numbers\",'r')\n",
        "  line = file.readline()  \n",
        "  while line:\n",
        "    value = math.pow(2,X)\n",
        "    probability = 1.0/value\n",
        "    if rnd.uniform(0, 1)<probability:\n",
        "        X += 1\n",
        "    line = line.rstrip() \n",
        "    line = file.readline()\n",
        "  file.close()\n",
        "  return X"
      ],
      "metadata": {
        "id": "Tml4JOrokZ8h"
      },
      "execution_count": null,
      "outputs": []
    },
    {
      "cell_type": "markdown",
      "source": [
        "<b> Approximate Count using Morris+ along with Counter"
      ],
      "metadata": {
        "id": "orvSilSQ_YXS"
      }
    },
    {
      "cell_type": "code",
      "source": [
        "MorrisPlusCount = morrisPlus(X,S)\n",
        "print(\"Approximate Count using Morris+ Algorithm: \",MorrisPlusCount)"
      ],
      "metadata": {
        "colab": {
          "base_uri": "https://localhost:8080/"
        },
        "id": "d9Hx3lUskZ_0",
        "outputId": "686996c1-4264-4de1-ea5d-d11e637364ae"
      },
      "execution_count": null,
      "outputs": [
        {
          "output_type": "stream",
          "name": "stdout",
          "text": [
            "0 th Copy of Morris Algorithm has X count:  28  and approximate count:  268435455\n",
            "1 th Copy of Morris Algorithm has X count:  27  and approximate count:  134217727\n",
            "2 th Copy of Morris Algorithm has X count:  28  and approximate count:  268435455\n",
            "3 th Copy of Morris Algorithm has X count:  27  and approximate count:  134217727\n",
            "4 th Copy of Morris Algorithm has X count:  27  and approximate count:  134217727\n",
            "5 th Copy of Morris Algorithm has X count:  29  and approximate count:  536870911\n",
            "6 th Copy of Morris Algorithm has X count:  27  and approximate count:  134217727\n",
            "7 th Copy of Morris Algorithm has X count:  27  and approximate count:  134217727\n",
            "8 th Copy of Morris Algorithm has X count:  28  and approximate count:  268435455\n",
            "9 th Copy of Morris Algorithm has X count:  27  and approximate count:  134217727\n",
            "10 th Copy of Morris Algorithm has X count:  28  and approximate count:  268435455\n",
            "11 th Copy of Morris Algorithm has X count:  27  and approximate count:  134217727\n",
            "12 th Copy of Morris Algorithm has X count:  28  and approximate count:  268435455\n",
            "13 th Copy of Morris Algorithm has X count:  29  and approximate count:  536870911\n",
            "14 th Copy of Morris Algorithm has X count:  29  and approximate count:  536870911\n",
            "15 th Copy of Morris Algorithm has X count:  28  and approximate count:  268435455\n",
            "Approximate Count using Morris+ Algorithm:  260046847\n"
          ]
        }
      ]
    },
    {
      "cell_type": "code",
      "source": [
        "print(\"Approximate Count using Morris+ Algorithm: \",MorrisPlusCount)"
      ],
      "metadata": {
        "id": "jYOB0Q74kaHc",
        "colab": {
          "base_uri": "https://localhost:8080/"
        },
        "outputId": "c82037e5-d757-459a-94e0-f426d624f17e"
      },
      "execution_count": null,
      "outputs": [
        {
          "output_type": "stream",
          "name": "stdout",
          "text": [
            "Approximate Count using Morris+ Algorithm:  260046847\n"
          ]
        }
      ]
    },
    {
      "cell_type": "code",
      "source": [],
      "metadata": {
        "id": "dK8vfqhJkaNZ"
      },
      "execution_count": null,
      "outputs": []
    }
  ]
}